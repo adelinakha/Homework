{
 "cells": [
  {
   "cell_type": "code",
   "execution_count": null,
   "id": "7b4a8d51",
   "metadata": {},
   "outputs": [],
   "source": [
    "# Задание 1\n",
    "import json\n",
    "purchases = {} # создаем словарь\n",
    "f = open('purchase_log.txt', encoding=\"utf-8\")\n",
    "    \n",
    "\n",
    "for i, line in enumerate(f):\n",
    "    if i == 0:\n",
    "        continue # пропускаем первую строчку т.к это имена столбцов\n",
    "        \n",
    "    purchase_data = jn.loads(line.strip()) # читаем формат json по строкам\n",
    "    user_id = purchase_data['user_id'] # ищем значения ключа\n",
    "    category = purchase_data['category'] # ищем значение категории\n",
    "    \n",
    "    purchases[user_id] = category # составляем словарь, где user_id является ключом, а category значением\n",
    " #   print(purchases) # выводим словарь\n",
    "    if i > 1:\n",
    "        break\n",
    "for user_id, category in purchases.items(): #выводи поочередно элементы словаря\n",
    "    print(f'{user_id}: {category}')"
   ]
  },
  {
   "cell_type": "code",
   "execution_count": 4,
   "id": "11319b5a",
   "metadata": {},
   "outputs": [],
   "source": [
    "# Задание 2 - выполнение первой части\n",
    "import json\n",
    "purchases = {} # создаем словарь\n",
    "f = open('purchase_log.txt', encoding=\"utf-8\")\n",
    "    \n",
    "\n",
    "for i, line in enumerate(f):\n",
    "    if i == 0:\n",
    "        continue\n",
    "        \n",
    "    purchase_data = json.loads(line.strip())\n",
    "    user_id = purchase_data['user_id'] \n",
    "    category = purchase_data['category'] \n",
    "    \n",
    "    purchases[user_id] = category "
   ]
  },
  {
   "cell_type": "code",
   "execution_count": 38,
   "id": "29d2f060",
   "metadata": {},
   "outputs": [],
   "source": [
    "f = open('visit_log.csv', encoding=\"utf-8\")\n",
    "r = open('funnel.csv', 'w')\n",
    "for i, line in enumerate(f):\n",
    "    if i == 0:\n",
    "        continue\n",
    "    line = line.strip().split(',') #strip убирает перенос строки split - разделяет запятой\n",
    "    user_id, source = line\n",
    "   \n",
    "    if user_id in purchases:\n",
    "        str_ = f\"{user_id},{source},{str(purchases[user_id])}\\n\"\n",
    "        r.write(str_)\n",
    "r.close()\n",
    "       "
   ]
  },
  {
   "cell_type": "code",
   "execution_count": null,
   "id": "05799a53",
   "metadata": {},
   "outputs": [],
   "source": []
  }
 ],
 "metadata": {
  "kernelspec": {
   "display_name": "Python 3 (ipykernel)",
   "language": "python",
   "name": "python3"
  },
  "language_info": {
   "codemirror_mode": {
    "name": "ipython",
    "version": 3
   },
   "file_extension": ".py",
   "mimetype": "text/x-python",
   "name": "python",
   "nbconvert_exporter": "python",
   "pygments_lexer": "ipython3",
   "version": "3.11.4"
  }
 },
 "nbformat": 4,
 "nbformat_minor": 5
}
